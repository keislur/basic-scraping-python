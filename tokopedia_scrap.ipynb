{
 "cells": [
  {
   "cell_type": "code",
   "execution_count": 111,
   "metadata": {},
   "outputs": [],
   "source": [
    "# Import Scrapping Library\n",
    "\n",
    "from selenium import webdriver\n",
    "from bs4 import BeautifulSoup\n",
    "from selenium.webdriver.common.by import By\n",
    "from time import sleep"
   ]
  },
  {
   "cell_type": "code",
   "execution_count": 121,
   "metadata": {},
   "outputs": [],
   "source": [
    "# Open Selenium Browser\n",
    "# options = webdriver.ChromeOptions()\n",
    "# options.add_argument('--start-maximized')\n",
    "driver = webdriver.Chrome()\n",
    "url = 'https://www.tokopedia.com/erigo'\n",
    "driver.get(url)"
   ]
  },
  {
   "cell_type": "code",
   "execution_count": 131,
   "metadata": {},
   "outputs": [],
   "source": [
    "data = []\n",
    "def get_item():\n",
    "    soup = BeautifulSoup(driver.page_source, 'html.parser')\n",
    "    containers = soup.find_all('div', {'class' : 'css-1sn1xa2'})\n",
    "    for container in containers:\n",
    "        # Scraping Data\n",
    "        nama = container.find('div', {'class' : 'prd_link-product-name'}).text\n",
    "        harga = container.find('div', {'class' : 'prd_link-product-price'}).text\n",
    "        rating_tag = container.find('span', {'class' : 'prd_rating-average-text'})\n",
    "        rating = rating_tag.text if rating_tag is not None else 'No rating'\n",
    "        print(nama, harga, rating)\n",
    "        \n",
    "        # Append Data to variable Data\n",
    "        produk_dicts = {'Nama':nama, 'Harga':harga, 'Rating':rating}\n",
    "        data.append(produk_dicts)\n",
    "\n",
    "        # Next if ada button next\n",
    "    try:\n",
    "        driver.find_element(By.XPATH, '//a[@data-testid=\"btnShopProductPageNext\"]').click()\n",
    "        sleep(20)\n",
    "        get_item()\n",
    "    except:\n",
    "        print(\"Scrapping Done\")"
   ]
  },
  {
   "cell_type": "code",
   "execution_count": null,
   "metadata": {},
   "outputs": [],
   "source": [
    "get_item()"
   ]
  }
 ],
 "metadata": {
  "kernelspec": {
   "display_name": "Python 3",
   "language": "python",
   "name": "python3"
  },
  "language_info": {
   "codemirror_mode": {
    "name": "ipython",
    "version": 3
   },
   "file_extension": ".py",
   "mimetype": "text/x-python",
   "name": "python",
   "nbconvert_exporter": "python",
   "pygments_lexer": "ipython3",
   "version": "3.11.0"
  },
  "orig_nbformat": 4
 },
 "nbformat": 4,
 "nbformat_minor": 2
}
