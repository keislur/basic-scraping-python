{
 "cells": [
  {
   "cell_type": "code",
   "execution_count": 42,
   "metadata": {},
   "outputs": [],
   "source": [
    "# Import Scraping Library\n",
    "from bs4 import BeautifulSoup\n",
    "from selenium import webdriver\n",
    "from selenium.webdriver.common.by import By\n",
    "from time import sleep\n",
    "\n",
    "# Import Data Science Library\n",
    "import pandas as pd\n",
    "import numpy as np\n",
    "import matplotlib.pyplot as plt\n",
    "import seaborn as sns"
   ]
  },
  {
   "cell_type": "code",
   "execution_count": 43,
   "metadata": {},
   "outputs": [],
   "source": [
    "url = 'https://books.toscrape.com/'\n",
    "options = webdriver.ChromeOptions()\n",
    "options.add_argument('--start-maximized')\n",
    "driver = webdriver.Chrome(options=options)\n",
    "driver.get(url)"
   ]
  },
  {
   "cell_type": "code",
   "execution_count": 63,
   "metadata": {},
   "outputs": [
    {
     "name": "stdout",
     "output_type": "stream",
     "text": [
      "Done Scraping Data!\n"
     ]
    }
   ],
   "source": [
    "book_dicts = []\n",
    "def get_books():\n",
    "    soup = BeautifulSoup(driver.page_source, \"html.parser\")\n",
    "    containers = soup.find_all('article', {'class':'product_pod'})\n",
    "    for element in containers:\n",
    "        title = element.find('h3').find('a').text\n",
    "        price = element.find('div', {'class':'product_price'}).find('p').text\n",
    "        stock = element.find('p',{'class':'instock availability'}).text.strip()\n",
    "        # # Append to array\n",
    "        book_dict = {'title':title,'price':price,'stock':stock}\n",
    "        book_dicts.append(book_dict)\n",
    "    try:\n",
    "        driver.find_element(By.XPATH, '//li[@class=\"next\"]/a').click()\n",
    "        sleep(6)\n",
    "        get_books()\n",
    "    except Exception as e:\n",
    "        print(\"Done Scraping Data!\")\n",
    "get_books()"
   ]
  },
  {
   "cell_type": "code",
   "execution_count": 64,
   "metadata": {},
   "outputs": [],
   "source": [
    "df1 = pd.DataFrame(book_dicts)\n",
    "df1 = df1.to_csv('csv_file/test_books_bf4_selenium.csv', index = False)"
   ]
  },
  {
   "cell_type": "code",
   "execution_count": 65,
   "metadata": {},
   "outputs": [
    {
     "data": {
      "text/html": [
       "<div>\n",
       "<style scoped>\n",
       "    .dataframe tbody tr th:only-of-type {\n",
       "        vertical-align: middle;\n",
       "    }\n",
       "\n",
       "    .dataframe tbody tr th {\n",
       "        vertical-align: top;\n",
       "    }\n",
       "\n",
       "    .dataframe thead th {\n",
       "        text-align: right;\n",
       "    }\n",
       "</style>\n",
       "<table border=\"1\" class=\"dataframe\">\n",
       "  <thead>\n",
       "    <tr style=\"text-align: right;\">\n",
       "      <th></th>\n",
       "      <th>title</th>\n",
       "      <th>price</th>\n",
       "      <th>stock</th>\n",
       "    </tr>\n",
       "  </thead>\n",
       "  <tbody>\n",
       "    <tr>\n",
       "      <th>0</th>\n",
       "      <td>On the Road (Duluoz ...</td>\n",
       "      <td>£32.36</td>\n",
       "      <td>In stock</td>\n",
       "    </tr>\n",
       "    <tr>\n",
       "      <th>1</th>\n",
       "      <td>Old Records Never Die: ...</td>\n",
       "      <td>£55.66</td>\n",
       "      <td>In stock</td>\n",
       "    </tr>\n",
       "    <tr>\n",
       "      <th>2</th>\n",
       "      <td>Off Sides (Off #1)</td>\n",
       "      <td>£39.45</td>\n",
       "      <td>In stock</td>\n",
       "    </tr>\n",
       "    <tr>\n",
       "      <th>3</th>\n",
       "      <td>Of Mice and Men</td>\n",
       "      <td>£47.11</td>\n",
       "      <td>In stock</td>\n",
       "    </tr>\n",
       "    <tr>\n",
       "      <th>4</th>\n",
       "      <td>Myriad (Prentor #1)</td>\n",
       "      <td>£58.75</td>\n",
       "      <td>In stock</td>\n",
       "    </tr>\n",
       "  </tbody>\n",
       "</table>\n",
       "</div>"
      ],
      "text/plain": [
       "                        title   price     stock\n",
       "0     On the Road (Duluoz ...  £32.36  In stock\n",
       "1  Old Records Never Die: ...  £55.66  In stock\n",
       "2          Off Sides (Off #1)  £39.45  In stock\n",
       "3             Of Mice and Men  £47.11  In stock\n",
       "4         Myriad (Prentor #1)  £58.75  In stock"
      ]
     },
     "execution_count": 65,
     "metadata": {},
     "output_type": "execute_result"
    }
   ],
   "source": [
    "df = pd.read_csv('csv_file/test_books_bf4_selenium.csv')\n",
    "df.head()"
   ]
  }
 ],
 "metadata": {
  "kernelspec": {
   "display_name": "Python 3",
   "language": "python",
   "name": "python3"
  },
  "language_info": {
   "codemirror_mode": {
    "name": "ipython",
    "version": 3
   },
   "file_extension": ".py",
   "mimetype": "text/x-python",
   "name": "python",
   "nbconvert_exporter": "python",
   "pygments_lexer": "ipython3",
   "version": "3.11.0"
  },
  "orig_nbformat": 4
 },
 "nbformat": 4,
 "nbformat_minor": 2
}
