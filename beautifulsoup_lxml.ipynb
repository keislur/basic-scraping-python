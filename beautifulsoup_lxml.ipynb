{
 "cells": [
  {
   "cell_type": "code",
   "execution_count": 2,
   "metadata": {},
   "outputs": [],
   "source": [
    "# Import Scraping Library\n",
    "import requests\n",
    "from bs4 import BeautifulSoup\n",
    "from lxml import html\n",
    "\n",
    "# Import Data Science Library\n",
    "import pandas as pd\n",
    "import numpy as np\n",
    "import matplotlib.pyplot as plt\n",
    "import seaborn as sns"
   ]
  },
  {
   "cell_type": "code",
   "execution_count": 3,
   "metadata": {},
   "outputs": [],
   "source": [
    "resp = requests.get('https://books.toscrape.com/')"
   ]
  },
  {
   "attachments": {},
   "cell_type": "markdown",
   "metadata": {},
   "source": [
    "# BeautifulSoup"
   ]
  },
  {
   "cell_type": "code",
   "execution_count": 4,
   "metadata": {},
   "outputs": [
    {
     "name": "stdout",
     "output_type": "stream",
     "text": [
      "A Light in the ...\n",
      "Tipping the Velvet\n",
      "Soumission\n",
      "Sharp Objects\n",
      "Sapiens: A Brief History ...\n",
      "The Requiem Red\n",
      "The Dirty Little Secrets ...\n",
      "The Coming Woman: A ...\n",
      "The Boys in the ...\n",
      "The Black Maria\n",
      "Starving Hearts (Triangular Trade ...\n",
      "Shakespeare's Sonnets\n",
      "Set Me Free\n",
      "Scott Pilgrim's Precious Little ...\n",
      "Rip it Up and ...\n",
      "Our Band Could Be ...\n",
      "Olio\n",
      "Mesaerion: The Best Science ...\n",
      "Libertarianism for Beginners\n",
      "It's Only the Himalayas\n"
     ]
    }
   ],
   "source": [
    "soup1 = BeautifulSoup(resp.text)\n",
    "containers = soup1.find_all('article',{'class':'product_pod'})\n",
    "for container in containers:\n",
    "    print(container.find('h3').find('a').get_text())"
   ]
  },
  {
   "attachments": {},
   "cell_type": "markdown",
   "metadata": {},
   "source": [
    "# LXML"
   ]
  },
  {
   "cell_type": "code",
   "execution_count": 5,
   "metadata": {},
   "outputs": [
    {
     "name": "stdout",
     "output_type": "stream",
     "text": [
      "['A Light in the ...']\n",
      "['Tipping the Velvet']\n",
      "['Soumission']\n",
      "['Sharp Objects']\n",
      "['Sapiens: A Brief History ...']\n",
      "['The Requiem Red']\n",
      "['The Dirty Little Secrets ...']\n",
      "['The Coming Woman: A ...']\n",
      "['The Boys in the ...']\n",
      "['The Black Maria']\n",
      "['Starving Hearts (Triangular Trade ...']\n",
      "[\"Shakespeare's Sonnets\"]\n",
      "['Set Me Free']\n",
      "[\"Scott Pilgrim's Precious Little ...\"]\n",
      "['Rip it Up and ...']\n",
      "['Our Band Could Be ...']\n",
      "['Olio']\n",
      "['Mesaerion: The Best Science ...']\n",
      "['Libertarianism for Beginners']\n",
      "[\"It's Only the Himalayas\"]\n"
     ]
    }
   ],
   "source": [
    "soup2 = html.fromstring(resp.content)\n",
    "for element in soup2.xpath('//article[@class=\"product_pod\"]'):\n",
    "    print(element.xpath('.//h3/a/text()'))"
   ]
  },
  {
   "attachments": {},
   "cell_type": "markdown",
   "metadata": {},
   "source": [
    "# Export to CSV"
   ]
  },
  {
   "cell_type": "code",
   "execution_count": 11,
   "metadata": {},
   "outputs": [
    {
     "data": {
      "text/html": [
       "<div>\n",
       "<style scoped>\n",
       "    .dataframe tbody tr th:only-of-type {\n",
       "        vertical-align: middle;\n",
       "    }\n",
       "\n",
       "    .dataframe tbody tr th {\n",
       "        vertical-align: top;\n",
       "    }\n",
       "\n",
       "    .dataframe thead th {\n",
       "        text-align: right;\n",
       "    }\n",
       "</style>\n",
       "<table border=\"1\" class=\"dataframe\">\n",
       "  <thead>\n",
       "    <tr style=\"text-align: right;\">\n",
       "      <th></th>\n",
       "      <th>title</th>\n",
       "      <th>price</th>\n",
       "      <th>stock</th>\n",
       "    </tr>\n",
       "  </thead>\n",
       "  <tbody>\n",
       "    <tr>\n",
       "      <th>0</th>\n",
       "      <td>A Light in the ...</td>\n",
       "      <td>£51.77</td>\n",
       "      <td>In stock</td>\n",
       "    </tr>\n",
       "    <tr>\n",
       "      <th>1</th>\n",
       "      <td>Tipping the Velvet</td>\n",
       "      <td>£53.74</td>\n",
       "      <td>In stock</td>\n",
       "    </tr>\n",
       "    <tr>\n",
       "      <th>2</th>\n",
       "      <td>Soumission</td>\n",
       "      <td>£50.10</td>\n",
       "      <td>In stock</td>\n",
       "    </tr>\n",
       "    <tr>\n",
       "      <th>3</th>\n",
       "      <td>Sharp Objects</td>\n",
       "      <td>£47.82</td>\n",
       "      <td>In stock</td>\n",
       "    </tr>\n",
       "    <tr>\n",
       "      <th>4</th>\n",
       "      <td>Sapiens: A Brief History ...</td>\n",
       "      <td>£54.23</td>\n",
       "      <td>In stock</td>\n",
       "    </tr>\n",
       "  </tbody>\n",
       "</table>\n",
       "</div>"
      ],
      "text/plain": [
       "                          title   price     stock\n",
       "0            A Light in the ...  £51.77  In stock\n",
       "1            Tipping the Velvet  £53.74  In stock\n",
       "2                    Soumission  £50.10  In stock\n",
       "3                 Sharp Objects  £47.82  In stock\n",
       "4  Sapiens: A Brief History ...  £54.23  In stock"
      ]
     },
     "execution_count": 11,
     "metadata": {},
     "output_type": "execute_result"
    }
   ],
   "source": [
    "df = pd.read_csv('bookstoscrape/data/books/books_2023-04-16T05-25-30.csv')\n",
    "df.head()"
   ]
  },
  {
   "cell_type": "code",
   "execution_count": null,
   "metadata": {},
   "outputs": [],
   "source": []
  }
 ],
 "metadata": {
  "kernelspec": {
   "display_name": "Python 3",
   "language": "python",
   "name": "python3"
  },
  "language_info": {
   "codemirror_mode": {
    "name": "ipython",
    "version": 3
   },
   "file_extension": ".py",
   "mimetype": "text/x-python",
   "name": "python",
   "nbconvert_exporter": "python",
   "pygments_lexer": "ipython3",
   "version": "3.11.0"
  },
  "orig_nbformat": 4
 },
 "nbformat": 4,
 "nbformat_minor": 2
}
